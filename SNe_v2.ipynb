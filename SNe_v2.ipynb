{
  "nbformat": 4,
  "nbformat_minor": 0,
  "metadata": {
    "colab": {
      "name": "SNe",
      "version": "0.3.2",
      "provenance": [],
      "collapsed_sections": []
    },
    "kernelspec": {
      "name": "python3",
      "display_name": "Python 3"
    }
  },
  "cells": [
    {
      "metadata": {
        "id": "x9hP5FmfQ8VQ",
        "colab_type": "text"
      },
      "cell_type": "markdown",
      "source": [
        "**DOCUMENTATION LINKS**\n",
        "\n",
        "sklearn Decision Trees User Guide:\n",
        "\n",
        "https://scikit-learn.org/stable/modules/tree.html#tree\n",
        "\n",
        "sklearn.tree.DecisionTreeClassifier: \n",
        "\n",
        "https://scikit-learn.org/stable/modules/generated/sklearn.tree.DecisionTreeClassifier.html\n",
        "\n",
        "sklearn.model_selection.train_test_split:\n",
        "\n",
        "https://scikit-learn.org/stable/modules/generated/sklearn.model_selection.train_test_split.html\n",
        "\n",
        "\n",
        "\n",
        "\n"
      ]
    },
    {
      "metadata": {
        "id": "ko3dwDOidHiu",
        "colab_type": "code",
        "colab": {}
      },
      "cell_type": "code",
      "source": [
        "# Import relevant libraries\n",
        "from google.colab import files\n",
        "import pandas as pd"
      ],
      "execution_count": 0,
      "outputs": []
    },
    {
      "metadata": {
        "id": "Bo8X1TLod1ko",
        "colab_type": "code",
        "outputId": "c0339dfe-dc05-4ec6-8d67-e4607a1ee59a",
        "colab": {
          "base_uri": "https://localhost:8080/",
          "height": 34
        }
      },
      "cell_type": "code",
      "source": [
        "# Image and tabular data can be downloaded from: \n",
        "# https://portal.nersc.gov/project/dessn/autoscan/\n",
        "\n",
        "# Upload image data as zipped folder and unzip in Colab\n",
        "\n",
        "#image_data = !unzip \"Y1 2013 Data.zip\"\n",
        "\n",
        "# Open tabular data using pandas\n",
        "\n",
        "tab_data = pd.read_csv(\"autoscan_features.2.csv\", comment = '#')\n",
        "len(tab_data)"
      ],
      "execution_count": 5,
      "outputs": [
        {
          "output_type": "execute_result",
          "data": {
            "text/plain": [
              "898963"
            ]
          },
          "metadata": {
            "tags": []
          },
          "execution_count": 5
        }
      ]
    },
    {
      "metadata": {
        "id": "oJwHQWlVfFaC",
        "colab_type": "code",
        "colab": {}
      },
      "cell_type": "code",
      "source": [
        "# Column Descriptions\n",
        "  # ID : Linked with image thumbnails.\n",
        "  # OBJECT_TYPE : 0 for artifact (is a SNe), 1 for non-artifact (not a SNe).\n",
        "  # AMP : Amplitude of fit that produces Gauss.\n",
        "  # A_IMAGE : Semi-major axis of object from SExtractor.\n",
        "  # A_REF : Semi-major axis of the nearest source in the galaxy coadd catalog, \n",
        "  #         if one exists within 5\". Else imputed.\n",
        "  # BAND : ??????????\n",
        "  # B_IMAGE : Semi-minor axis of object from SExtractor on I^d.\n",
        "  # B_REF : Semi-minor axis of the nearest source in the galaxy coadd catalog, \n",
        "  #         if one exists within 5\". Else imputed.\n",
        "  # CCDID : The numerical ID of the CCD on which the detection was registered.\n",
        "  # COLMEDS : The maximum of the median pixel values of each colum on B^d.\n",
        "  # DIFFSUMRN : ??? The sum of the matrix elements in a 5 x 5 element box \n",
        "  #         centered on the detection location on R^d.\n",
        "  # ELLIPTICITY : The ellipicity of the detection on I^d using a_image and \n",
        "  #         b_image from SExtractor.\n",
        "  # FLAGS : Numerical representation of SExtractor extraction flags on I^d.\n",
        "  # FLUX_RATIO : Ratio of the flux in a 5-pxel circular aperture centered on the\n",
        "  #         location of the detection of I^d to the absolute value of the flux\n",
        "  #         in a 5-pixel circular at the same location on I^d.\n",
        "  # GAUSS : X^2 from fitting a spherical 2D Gaussian to a 15 x 15 pixel cutout\n",
        "  #         around the detection on B^d.\n",
        "  # GFLUX : ?????????\n",
        "  # L1 : Equation that can be found on the paper in \"Table 2-continued\".\n",
        "  # LACOSMIC : Another equation that can be found on the paper in \n",
        "  #         \"Table 2-continued\".\n",
        "  # MAG : The magnitude of the object from SExtractor on I^d.\n",
        "  # MAGDIFF : If a source is found within 5” of the location of the object in \n",
        "  #         the galaxy coadd catalog, the difference between mag and the \n",
        "  #         magnitude of the nearby source. Else, the difference between mag and\n",
        "  #         the limiting magnitude of the parent image from which the I^d\n",
        "  #         cutout was generated.\n",
        "  # MAGLIM : True if there is no nearby galaxy coadd source, false otherwise.\n",
        "  # MAG_FROM_LIMIT : Limiting magnitude of the parent image from which the I^d \n",
        "  #         cutout was generated minus mag.\n",
        "  # MAG_REF : The magnitude of the nearest source in the galaxy coadd catalog, \n",
        "  #         if one exists within 5” of the detection on I^d. Else imputed.\n",
        "  # MASKFRAC : The fraction of I^d that is masked.\n",
        "  # MIN_DISTANCE_TO_EDGE_IN_NEW : Distance in pixels to the nearest edge of the \n",
        "  #         detector array on the parent image from which the I^d cutout was \n",
        "  #         generated.\n",
        "  # N2SIG3 : Number of matrix elements in a 5×5 element block centered on the \n",
        "  #         detection on R^d with values less than -2.\n",
        "  # N2SIG3SHIFT\t: The number of matrix elements with values greater than or\n",
        "  #         equal to 2 in the central 5 × 5 element block of R^d minus the number\n",
        "  #         of matrix elements with values greater than or equal to 2 in the \n",
        "  #         central 5 × 5 element block of R^t.\n",
        "  # N2SIG5 : Number of matrix elements in a 7×7 element block centered on the \n",
        "  #         detection on R^d with values less than -2.\n",
        "  # N2SIG5SHIFT : The number of matrix elements with values greater than or\n",
        "  #         equal to 2 in the central 7 × 7 element block of R^d minus the number\n",
        "  #         of matrix elements with values greater than or equal to 2 in the \n",
        "  #         central 7 × 7 element block of R^t.\n",
        "  # N3SIG3 : Number of matrix elements in a 5×5 element block centered on the \n",
        "  #         detection on R^d with values less than -3.\n",
        "  # N3SIG3SHIFT : The number of matrix elements with values greater than or\n",
        "  #         equal to 3 in the central 5 × 5 element block of R^d minus the number\n",
        "  #         of matrix elements with values greater than or equal to 3 in the \n",
        "  #         central 5 × 5 element block of R^t.\n",
        "  # N3SIG5 : Number of matrix elements in a 7×7 element block centered on the \n",
        "  #         detection on R^d with values less than -3\n",
        "  # N3SIG5SHIFT\t: The number of matrix elements with values greater than or\n",
        "  #         equal to 3 in the central 7 × 7 element block of R^d minus the number\n",
        "  #         of matrix elements with values greater than or equal to 3 in the \n",
        "  #         central 7 × 7 element block of R^t.\n",
        "  # NN_DIST_RENORM : The distance from the detection to the nearest source in the\n",
        "  #         galaxy coadd catalog, if one exists within 5”. Else imputed.\n",
        "  # NUMNEGRN : The number of negative matrix elements in a 7 × 7 element box \n",
        "  #         centered on the detection in R^d.\n",
        "  # SCALE : Scale parameter of fit that produced gauss.\n",
        "  # SNR\t: The flux from a 35 × 35-pixel PSF model-fit to the object on I^d \n",
        "  #         divided by the uncertainty from the fit.\n",
        "  # SPREADERR_MODEL : Uncertainty on spread model.\n",
        "  # SPREAD_MODEL : SPREAD MODEL output parameter from SExtractor on I^d.\n",
        "\n",
        "#print(tab_data.head(10))\n",
        "#print(tab_data['OBJECT_TYPE'])"
      ],
      "execution_count": 0,
      "outputs": []
    },
    {
      "metadata": {
        "id": "SlgsNE2ggxTn",
        "colab_type": "code",
        "outputId": "2c75ee0d-4f8a-4f41-ebb7-b42527eed41e",
        "colab": {
          "base_uri": "https://localhost:8080/",
          "height": 1286
        }
      },
      "cell_type": "code",
      "source": [
        "# Import libraries\n",
        "import sklearn as skl\n",
        "from sklearn.model_selection import train_test_split\n",
        "from sklearn import tree\n",
        "import numpy as np\n",
        "\n",
        "# Read Excel file using pandas and exclude columns 'ID' and 'BAND'\n",
        "dat = pd.read_csv(\"autoscan_features.2.csv\", comment = '#')\n",
        "data = dat.drop(['ID', 'BAND'], axis=1)\n",
        "#print(data.head(10))\n",
        "\n",
        "# Shuffle data set using pandas (frac=1 lets you consider whole set as a sample)\n",
        "shuffled_dat = data.sample(frac = 1)\n",
        "\n",
        "# Reduce size of data being fed to classifier. Take first 100 values of shuffled\n",
        "# data\n",
        "small_dat = shuffled_dat.head(100)\n",
        "\n",
        "# Define class labels for training sample\n",
        "y_dat = small_dat['OBJECT_TYPE']\n",
        "#print(y_dat, len(y_dat))\n",
        "\n",
        "# Define training samples for classifier\n",
        "x_dat = small_dat.drop(['OBJECT_TYPE'], axis=1)\n",
        "#print(x_dat, len(x_dat))\n",
        "\n",
        "# Split data into training and testing samples, with defined proportions of dataset\n",
        "x_train, x_test, y_train, y_test = train_test_split(x_dat, y_dat, train_size = 0.3, test_size = 0.7)\n",
        "#print(x_train, x_test, y_train, y_test)\n",
        "\n",
        "# Replaces NaN values in data with zeroes\n",
        "where_are_nans = np.isnan(x_train)\n",
        "x_train[where_are_nans] = 0\n",
        "#np.nan_to_num(x_train)\n",
        "#print(x_train)\n",
        "\n",
        "print(x_train.dtypes) #Changed here because it was crashing\n",
        "\n",
        "#where_are_strings = np.where(x_train.dtype.type = np.string_)\n",
        "#x_train[where_are_strings] = 0\n",
        "\n",
        "# Build a decision tree classifier and fit data to decision tree\n",
        "dtc = tree.DecisionTreeClassifier(criterion='gini', splitter='best', max_depth='none',\n",
        "                                min_samples_split=2, min_samples_leaf=1, \n",
        "                                min_weight_fraction_leaf=0.0, max_features=None,\n",
        "                                max_leaf_nodes=None, min_impurity_decrease=0.0, \n",
        "                                min_impurity_split=None, class_weight=None, presort=False)\n",
        "dtc = dtc.fit(x_train, y_train)\n",
        "\n",
        "# why is it not working\n",
        "# Error:  Input contains NaN, infinity or a value too large for dtype('float32').\n",
        "# Issue with values in training data\n",
        "# Assuming it is large values\n",
        "# incorrect dtype?\n",
        "\n",
        "# Once we do get it to fit, how do we know what columns weigh more / are more\n",
        "# important? \n",
        "# Do we need to visualize using graphviz in order to do this?\n",
        "  # Would be surprised if it didn't output in an array - probably dont have to visualize\n",
        "\n",
        "\n",
        "\n",
        "# We need to consider that dataset changes every time we run it.\n",
        "# for loop, change all strings to float\n",
        "# figure out where test data go\n",
        "# check for other code to see how they do it\n",
        "# if we do boosted we can compare the accuracy \n",
        "\n",
        "\n"
      ],
      "execution_count": 7,
      "outputs": [
        {
          "output_type": "stream",
          "text": [
            "AMP                            float64\n",
            "A_IMAGE                        float64\n",
            "A_REF                          float64\n",
            "B_IMAGE                        float64\n",
            "B_REF                          float64\n",
            "CCDID                            int64\n",
            "COLMEDS                        float64\n",
            "DIFFSUMRN                      float64\n",
            "ELLIPTICITY                    float64\n",
            "FLAGS                            int64\n",
            "FLUX_RATIO                     float64\n",
            "GAUSS                          float64\n",
            "GFLUX                          float64\n",
            "L1                             float64\n",
            "LACOSMIC                       float64\n",
            "MAG                            float64\n",
            "MAGDIFF                        float64\n",
            "MAGLIM                           int64\n",
            "MAG_FROM_LIMIT                 float64\n",
            "MAG_REF                        float64\n",
            "MAG_REF_ERR                    float64\n",
            "MASKFRAC                       float64\n",
            "MIN_DISTANCE_TO_EDGE_IN_NEW    float64\n",
            "N2SIG3                           int64\n",
            "N2SIG3SHIFT                      int64\n",
            "N2SIG5                           int64\n",
            "N2SIG5SHIFT                      int64\n",
            "N3SIG3                           int64\n",
            "N3SIG3SHIFT                      int64\n",
            "N3SIG5                           int64\n",
            "N3SIG5SHIFT                      int64\n",
            "NN_DIST_RENORM                 float64\n",
            "NUMNEGRN                         int64\n",
            "SCALE                          float64\n",
            "SNR                            float64\n",
            "SPREADERR_MODEL                float64\n",
            "SPREAD_MODEL                   float64\n",
            "dtype: object\n"
          ],
          "name": "stdout"
        },
        {
          "output_type": "stream",
          "text": [
            "/usr/local/lib/python3.6/dist-packages/ipykernel_launcher.py:32: SettingWithCopyWarning: \n",
            "A value is trying to be set on a copy of a slice from a DataFrame.\n",
            "Try using .loc[row_indexer,col_indexer] = value instead\n",
            "\n",
            "See the caveats in the documentation: http://pandas.pydata.org/pandas-docs/stable/indexing.html#indexing-view-versus-copy\n",
            "/usr/local/lib/python3.6/dist-packages/pandas/core/frame.py:2554: SettingWithCopyWarning: \n",
            "A value is trying to be set on a copy of a slice from a DataFrame\n",
            "\n",
            "See the caveats in the documentation: http://pandas.pydata.org/pandas-docs/stable/indexing.html#indexing-view-versus-copy\n",
            "  self._where(-key, value, inplace=True)\n"
          ],
          "name": "stderr"
        },
        {
          "output_type": "error",
          "ename": "TypeError",
          "evalue": "ignored",
          "traceback": [
            "\u001b[0;31m---------------------------------------------------------------------------\u001b[0m",
            "\u001b[0;31mTypeError\u001b[0m                                 Traceback (most recent call last)",
            "\u001b[0;32m<ipython-input-7-fe312ad44654>\u001b[0m in \u001b[0;36m<module>\u001b[0;34m()\u001b[0m\n\u001b[1;32m     45\u001b[0m                                 \u001b[0mmax_leaf_nodes\u001b[0m\u001b[0;34m=\u001b[0m\u001b[0;32mNone\u001b[0m\u001b[0;34m,\u001b[0m \u001b[0mmin_impurity_decrease\u001b[0m\u001b[0;34m=\u001b[0m\u001b[0;36m0.0\u001b[0m\u001b[0;34m,\u001b[0m\u001b[0;34m\u001b[0m\u001b[0;34m\u001b[0m\u001b[0m\n\u001b[1;32m     46\u001b[0m                                 min_impurity_split=None, class_weight=None, presort=False)\n\u001b[0;32m---> 47\u001b[0;31m \u001b[0mdtc\u001b[0m \u001b[0;34m=\u001b[0m \u001b[0mdtc\u001b[0m\u001b[0;34m.\u001b[0m\u001b[0mfit\u001b[0m\u001b[0;34m(\u001b[0m\u001b[0mx_train\u001b[0m\u001b[0;34m,\u001b[0m \u001b[0my_train\u001b[0m\u001b[0;34m)\u001b[0m\u001b[0;34m\u001b[0m\u001b[0;34m\u001b[0m\u001b[0m\n\u001b[0m\u001b[1;32m     48\u001b[0m \u001b[0;34m\u001b[0m\u001b[0m\n\u001b[1;32m     49\u001b[0m \u001b[0;31m# why is it not working\u001b[0m\u001b[0;34m\u001b[0m\u001b[0;34m\u001b[0m\u001b[0;34m\u001b[0m\u001b[0m\n",
            "\u001b[0;32m/usr/local/lib/python3.6/dist-packages/sklearn/tree/tree.py\u001b[0m in \u001b[0;36mfit\u001b[0;34m(self, X, y, sample_weight, check_input, X_idx_sorted)\u001b[0m\n\u001b[1;32m    799\u001b[0m             \u001b[0msample_weight\u001b[0m\u001b[0;34m=\u001b[0m\u001b[0msample_weight\u001b[0m\u001b[0;34m,\u001b[0m\u001b[0;34m\u001b[0m\u001b[0;34m\u001b[0m\u001b[0m\n\u001b[1;32m    800\u001b[0m             \u001b[0mcheck_input\u001b[0m\u001b[0;34m=\u001b[0m\u001b[0mcheck_input\u001b[0m\u001b[0;34m,\u001b[0m\u001b[0;34m\u001b[0m\u001b[0;34m\u001b[0m\u001b[0m\n\u001b[0;32m--> 801\u001b[0;31m             X_idx_sorted=X_idx_sorted)\n\u001b[0m\u001b[1;32m    802\u001b[0m         \u001b[0;32mreturn\u001b[0m \u001b[0mself\u001b[0m\u001b[0;34m\u001b[0m\u001b[0;34m\u001b[0m\u001b[0m\n\u001b[1;32m    803\u001b[0m \u001b[0;34m\u001b[0m\u001b[0m\n",
            "\u001b[0;32m/usr/local/lib/python3.6/dist-packages/sklearn/tree/tree.py\u001b[0m in \u001b[0;36mfit\u001b[0;34m(self, X, y, sample_weight, check_input, X_idx_sorted)\u001b[0m\n\u001b[1;32m    237\u001b[0m         \u001b[0;32mif\u001b[0m \u001b[0;32mnot\u001b[0m \u001b[0;36m0\u001b[0m \u001b[0;34m<=\u001b[0m \u001b[0mself\u001b[0m\u001b[0;34m.\u001b[0m\u001b[0mmin_weight_fraction_leaf\u001b[0m \u001b[0;34m<=\u001b[0m \u001b[0;36m0.5\u001b[0m\u001b[0;34m:\u001b[0m\u001b[0;34m\u001b[0m\u001b[0;34m\u001b[0m\u001b[0m\n\u001b[1;32m    238\u001b[0m             \u001b[0;32mraise\u001b[0m \u001b[0mValueError\u001b[0m\u001b[0;34m(\u001b[0m\u001b[0;34m\"min_weight_fraction_leaf must in [0, 0.5]\"\u001b[0m\u001b[0;34m)\u001b[0m\u001b[0;34m\u001b[0m\u001b[0;34m\u001b[0m\u001b[0m\n\u001b[0;32m--> 239\u001b[0;31m         \u001b[0;32mif\u001b[0m \u001b[0mmax_depth\u001b[0m \u001b[0;34m<=\u001b[0m \u001b[0;36m0\u001b[0m\u001b[0;34m:\u001b[0m\u001b[0;34m\u001b[0m\u001b[0;34m\u001b[0m\u001b[0m\n\u001b[0m\u001b[1;32m    240\u001b[0m             \u001b[0;32mraise\u001b[0m \u001b[0mValueError\u001b[0m\u001b[0;34m(\u001b[0m\u001b[0;34m\"max_depth must be greater than zero. \"\u001b[0m\u001b[0;34m)\u001b[0m\u001b[0;34m\u001b[0m\u001b[0;34m\u001b[0m\u001b[0m\n\u001b[1;32m    241\u001b[0m         \u001b[0;32mif\u001b[0m \u001b[0;32mnot\u001b[0m \u001b[0;34m(\u001b[0m\u001b[0;36m0\u001b[0m \u001b[0;34m<\u001b[0m \u001b[0mmax_features\u001b[0m \u001b[0;34m<=\u001b[0m \u001b[0mself\u001b[0m\u001b[0;34m.\u001b[0m\u001b[0mn_features_\u001b[0m\u001b[0;34m)\u001b[0m\u001b[0;34m:\u001b[0m\u001b[0;34m\u001b[0m\u001b[0;34m\u001b[0m\u001b[0m\n",
            "\u001b[0;31mTypeError\u001b[0m: '<=' not supported between instances of 'str' and 'int'"
          ]
        }
      ]
    },
    {
      "metadata": {
        "id": "s3YEeOb5Oz4Y",
        "colab_type": "code",
        "colab": {}
      },
      "cell_type": "code",
      "source": [
        ""
      ],
      "execution_count": 0,
      "outputs": []
    }
  ]
}